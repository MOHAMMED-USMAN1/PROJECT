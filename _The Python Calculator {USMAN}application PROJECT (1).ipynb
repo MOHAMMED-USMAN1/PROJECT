{
 "cells": [
  {
   "cell_type": "markdown",
   "id": "db7ceef7",
   "metadata": {},
   "source": [
    "# Basic Arithmetic Operations "
   ]
  },
  {
   "cell_type": "code",
   "execution_count": 2,
   "id": "03e5537e",
   "metadata": {},
   "outputs": [],
   "source": [
    "def Arithmetic():\n",
    "    # Define two variables \n",
    "    a = 10 \n",
    "    b = 5 \n",
    "    addition_result = a + b \n",
    "    print(f\"Addition: {a} + {b} = {addition_result}\") \n",
    "#Addition: 10 + 5 = 15\n",
    "\n",
    "\n",
    "#subtraction\n",
    "    subtraction_result = a - b \n",
    "    print(f\"Subtraction: {a} - {b} = {subtraction_result}\") \n",
    "\n",
    "#multiply\n",
    "    multiplication_result = a * b \n",
    "    print(f\"Multiplication: {a} * {b} = {multiplication_result}\") \n",
    "  \n",
    "  \n",
    "# Division \n",
    "    division_result = a / b \n",
    "    print(f\"Division: {a} / {b} = {division_result}\") \n",
    " \n",
    "  \n",
    " \n",
    "    floor_division_result = a // b \n",
    "    print(f\"Floor Division: {a} // {b} = {floor_division_result}\") \n",
    "    #Floor Division: 10 // 5 = 2 \n",
    "  \n",
    "  \n",
    "# Modulo (Remainder) \n",
    "    modulo_result = a % b \n",
    "    print(f\"Modulo: {a} % {b} = {modulo_result}\") \n",
    "#Modulo: 10 % 5 = 0 \n",
    "  \n",
    "  #Exponentiation (a raised to the power of b) \n",
    "    exponentiation_result = a ** b \n",
    "    print(f\"Exponentiation: {a} ** {b} = {exponentiation_result}\") \n",
    "#Exponentiation: 10 ** 5 = 100000 \n",
    "    \n",
    "\n"
   ]
  },
  {
   "cell_type": "code",
   "execution_count": 3,
   "id": "d646acb9",
   "metadata": {},
   "outputs": [
    {
     "name": "stdout",
     "output_type": "stream",
     "text": [
      "Addition: 10 + 5 = 15\n",
      "Subtraction: 10 - 5 = 5\n",
      "Multiplication: 10 * 5 = 50\n",
      "Division: 10 / 5 = 2.0\n",
      "Floor Division: 10 // 5 = 2\n",
      "Modulo: 10 % 5 = 0\n",
      "Exponentiation: 10 ** 5 = 100000\n"
     ]
    }
   ],
   "source": [
    "Arithmetic()"
   ]
  },
  {
   "cell_type": "markdown",
   "id": "8c03f948",
   "metadata": {},
   "source": [
    "# Error Handling \n",
    "  \n"
   ]
  },
  {
   "cell_type": "code",
   "execution_count": 7,
   "id": "bf7a4d27",
   "metadata": {},
   "outputs": [],
   "source": [
    "#1: Handling a Specific Type of Error \n",
    "def errorhandling():\n",
    "    try:\n",
    "        num = int(input(\"Enter a number: \"))  \n",
    "        result = 10 / num  \n",
    "        print(f\"The result is {result}\") \n",
    "        \n",
    "    except ZeroDivisionError as e: \n",
    "        print(f\"Error: {e}. You cannot divide by zero.\")  \n",
    "    except ValueError as e: \n",
    "        print(f\"Error: {e}. Please enter a valid number.\")  \n"
   ]
  },
  {
   "cell_type": "code",
   "execution_count": 9,
   "id": "5d2689a4",
   "metadata": {},
   "outputs": [
    {
     "name": "stdout",
     "output_type": "stream",
     "text": [
      "Enter a number: 0\n",
      "Error: division by zero. You cannot divide by zero.\n"
     ]
    }
   ],
   "source": [
    "errorhandling()"
   ]
  },
  {
   "cell_type": "code",
   "execution_count": 12,
   "id": "63e07b66",
   "metadata": {},
   "outputs": [
    {
     "name": "stdout",
     "output_type": "stream",
     "text": [
      "Enter a number: jk\n",
      "Error: invalid literal for int() with base 10: 'jk'. Please enter a valid number.\n"
     ]
    }
   ],
   "source": [
    "errorhandling()"
   ]
  },
  {
   "cell_type": "markdown",
   "id": "d00bbf36",
   "metadata": {},
   "source": [
    "# Handling Multiple Types of Errors "
   ]
  },
  {
   "cell_type": "code",
   "execution_count": 13,
   "id": "4693c92b",
   "metadata": {},
   "outputs": [],
   "source": [
    "def multipleerrors():\n",
    "    try:\n",
    "        file = open(\"nonexistent_file.txt\", \"r\")  \n",
    "        content = file.read()  \n",
    "        file.close()  \n",
    "  \n",
    "    except FileNotFoundError as e: \n",
    "        print(f\"Error: {e}. The file does not exist.\")  \n",
    "  \n",
    "    except IOError as e:  \n",
    "        print(f\"Error: {e}. There was an IO error.\")  \n"
   ]
  },
  {
   "cell_type": "code",
   "execution_count": 14,
   "id": "eee4d1ca",
   "metadata": {},
   "outputs": [
    {
     "name": "stdout",
     "output_type": "stream",
     "text": [
      "Error: [Errno 2] No such file or directory: 'nonexistent_file.txt'. The file does not exist.\n"
     ]
    }
   ],
   "source": [
    "multipleerrors()\n",
    "'''\n",
    "•\tFileNotFoundError. In this example, the program attempts to open a file that doesn't exist. This raises a  \n",
    "  \n",
    " If there's any other kind of input/output error, it will be caught by the \n",
    "IOError block. \n",
    "\n",
    "'''"
   ]
  },
  {
   "cell_type": "markdown",
   "id": "ac1e8d58",
   "metadata": {},
   "source": [
    "# Handling Any Type of Error \n",
    "  \n",
    " "
   ]
  },
  {
   "cell_type": "code",
   "execution_count": 15,
   "id": "bc8711d1",
   "metadata": {},
   "outputs": [],
   "source": [
    "def any_type_of_error():\n",
    "    try:\n",
    "        result = 10 / 0  \n",
    "        print(f\"The result is {result}\")  \n",
    "  \n",
    "    except Exception as e:  \n",
    "        print(f\"An error occurred: {e}\")  \n"
   ]
  },
  {
   "cell_type": "code",
   "execution_count": 16,
   "id": "8f7cf97d",
   "metadata": {},
   "outputs": [
    {
     "name": "stdout",
     "output_type": "stream",
     "text": [
      "An error occurred: division by zero\n"
     ]
    }
   ],
   "source": [
    "any_type_of_error()\n",
    "\n",
    "\n",
    "'''\n",
    "Here, we're using a generic Exception class to catch any type of error.\n",
    "While this can be useful for catching any unexpected errors,\n",
    "it's generally better to handle specific error types whenever possible. \n",
    "'''"
   ]
  },
  {
   "cell_type": "markdown",
   "id": "efeca40e",
   "metadata": {},
   "source": [
    "# Using else and finally Blocks "
   ]
  },
  {
   "cell_type": "code",
   "execution_count": 17,
   "id": "b4ffc362",
   "metadata": {},
   "outputs": [],
   "source": [
    "def else_finally():\n",
    "    try:  \n",
    "        num = int(input(\"Enter a number: \")) \n",
    "        result = 10 / num  \n",
    "  \n",
    "    except ZeroDivisionError as e:  \n",
    "        print(f\"Error: {e}. You cannot divide by zero.\")  \n",
    "  \n",
    "    else:  \n",
    "        print(f\"The result is {result}\")  \n",
    "  \n",
    "    finally:  \n",
    "        print(\"This block will always execute.\")  \n"
   ]
  },
  {
   "cell_type": "code",
   "execution_count": 18,
   "id": "7d190d2d",
   "metadata": {},
   "outputs": [
    {
     "name": "stdout",
     "output_type": "stream",
     "text": [
      "Enter a number: 4\n",
      "The result is 2.5\n",
      "This block will always execute.\n"
     ]
    }
   ],
   "source": [
    "else_finally()"
   ]
  },
  {
   "cell_type": "code",
   "execution_count": 19,
   "id": "fafc5311",
   "metadata": {},
   "outputs": [
    {
     "name": "stdout",
     "output_type": "stream",
     "text": [
      "Enter a number: 0\n",
      "Error: division by zero. You cannot divide by zero.\n",
      "This block will always execute.\n"
     ]
    }
   ],
   "source": [
    "else_finally()"
   ]
  },
  {
   "cell_type": "code",
   "execution_count": null,
   "id": "16031cfb",
   "metadata": {},
   "outputs": [],
   "source": [
    "'''\n",
    "here,the else block executes if no exception is raised,\n",
    "and the finally block always executes, \n",
    "regardless of whether an exception occurs or not. \n",
    "'''"
   ]
  },
  {
   "cell_type": "markdown",
   "id": "47b87157",
   "metadata": {},
   "source": [
    "# Scientific operations  "
   ]
  },
  {
   "cell_type": "markdown",
   "id": "0acc2865",
   "metadata": {},
   "source": [
    "# 1# : Finding the Square Root "
   ]
  },
  {
   "cell_type": "code",
   "execution_count": 20,
   "id": "ee1abdb7",
   "metadata": {},
   "outputs": [],
   "source": [
    "import math\n",
    "def square_root():\n",
    "    num = 25  \n",
    "    sqrt_result = math.sqrt(num)  \n",
    "    print(f\"The square root of {num} is {sqrt_result}\")  \n"
   ]
  },
  {
   "cell_type": "code",
   "execution_count": 21,
   "id": "00ad7b6e",
   "metadata": {},
   "outputs": [
    {
     "name": "stdout",
     "output_type": "stream",
     "text": [
      "The square root of 25 is 5.0\n"
     ]
    }
   ],
   "source": [
    "square_root()"
   ]
  },
  {
   "cell_type": "markdown",
   "id": "705565c6",
   "metadata": {},
   "source": [
    "# 2: Calculating Trigonometric Functions # "
   ]
  },
  {
   "cell_type": "code",
   "execution_count": 22,
   "id": "ac1eb1da",
   "metadata": {},
   "outputs": [],
   "source": [
    "def Trigonometric_Function():\n",
    "    angle = math.radians(45) # Convert degrees to radians  \n",
    "  \n",
    "    sin_result = math.sin(angle)  \n",
    "    cos_result = math.cos(angle)  \n",
    "    tan_result = math.tan(angle)  \n",
    "  \n",
    "    print(f\"sin(45 degrees) = {sin_result}\")  \n",
    "    print(f\"cos(45 degrees) = {cos_result}\")  \n",
    "    print(f\"tan(45 degrees) = {tan_result}\")  \n"
   ]
  },
  {
   "cell_type": "code",
   "execution_count": 23,
   "id": "8782ba4b",
   "metadata": {},
   "outputs": [
    {
     "name": "stdout",
     "output_type": "stream",
     "text": [
      "sin(45 degrees) = 0.7071067811865476\n",
      "cos(45 degrees) = 0.7071067811865476\n",
      "tan(45 degrees) = 0.9999999999999999\n"
     ]
    }
   ],
   "source": [
    "Trigonometric_Function()"
   ]
  },
  {
   "cell_type": "markdown",
   "id": "a04edbf4",
   "metadata": {},
   "source": [
    "# 3: Logarithmic Operations "
   ]
  },
  {
   "cell_type": "code",
   "execution_count": 24,
   "id": "c38a1ece",
   "metadata": {},
   "outputs": [],
   "source": [
    "def Logarithmic_Operations():\n",
    "    num = 1000  \n",
    "    log_result = math.log10(num)  \n",
    "    print(f\"The base-10 logarithm of {num} is {log_result}\")  \n",
    "  \n"
   ]
  },
  {
   "cell_type": "code",
   "execution_count": 25,
   "id": "ee613b14",
   "metadata": {},
   "outputs": [
    {
     "name": "stdout",
     "output_type": "stream",
     "text": [
      "The base-10 logarithm of 1000 is 3.0\n"
     ]
    }
   ],
   "source": [
    "Logarithmic_Operations()"
   ]
  },
  {
   "cell_type": "markdown",
   "id": "b333fb5b",
   "metadata": {},
   "source": [
    "# 4: Working with NumPy Arrays "
   ]
  },
  {
   "cell_type": "code",
   "execution_count": 26,
   "id": "25788161",
   "metadata": {},
   "outputs": [],
   "source": [
    "import numpy as np \n",
    "def numpy_arrays():\n",
    "    array1 = np.array([1, 2, 3]) \n",
    "    array2 = np.array([4, 5, 6]) \n",
    "\n",
    "     # Element-wise addition  \n",
    "    addition_result = np.add(array1, array2) \n",
    "\n",
    "     # Dot product  \n",
    "    dot_product_result = np.dot(array1, array2)  \n",
    "\n",
    "    print(f\"Element-wise addition: {addition_result}\") \n",
    "\n",
    "    print(f\"Dot product: {dot_product_result}\")  \n"
   ]
  },
  {
   "cell_type": "code",
   "execution_count": 27,
   "id": "ad95c77c",
   "metadata": {},
   "outputs": [
    {
     "name": "stdout",
     "output_type": "stream",
     "text": [
      "Element-wise addition: [5 7 9]\n",
      "Dot product: 32\n"
     ]
    }
   ],
   "source": [
    "numpy_arrays()"
   ]
  },
  {
   "cell_type": "markdown",
   "id": "48965d6b",
   "metadata": {},
   "source": [
    "# 5: Solving Linear_Equations "
   ]
  },
  {
   "cell_type": "code",
   "execution_count": 35,
   "id": "9ea4de05",
   "metadata": {},
   "outputs": [],
   "source": [
    "from scipy.linalg import solve \n",
    "def Linear_Equations():\n",
    "     A= np.array([[2, 3], [1, -1]])  \n",
    "     b= np.array([9, 1]) \n",
    "     solution = solve(A, b) \n",
    "     print(f\"The solution to the linear equation is x = {solution[0]}, y = {solution[1]}\")  \n",
    "  \n"
   ]
  },
  {
   "cell_type": "code",
   "execution_count": 36,
   "id": "b29a27e8",
   "metadata": {},
   "outputs": [
    {
     "name": "stdout",
     "output_type": "stream",
     "text": [
      "The solution to the linear equation is x = 2.4000000000000004, y = 1.4\n"
     ]
    }
   ],
   "source": [
    "Linear_Equations()"
   ]
  },
  {
   "cell_type": "code",
   "execution_count": null,
   "id": "bdc069cd",
   "metadata": {},
   "outputs": [],
   "source": []
  }
 ],
 "metadata": {
  "kernelspec": {
   "display_name": "Python 3 (ipykernel)",
   "language": "python",
   "name": "python3"
  },
  "language_info": {
   "codemirror_mode": {
    "name": "ipython",
    "version": 3
   },
   "file_extension": ".py",
   "mimetype": "text/x-python",
   "name": "python",
   "nbconvert_exporter": "python",
   "pygments_lexer": "ipython3",
   "version": "3.11.5"
  }
 },
 "nbformat": 4,
 "nbformat_minor": 5
}
